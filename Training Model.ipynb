{
 "cells": [
  {
   "cell_type": "markdown",
   "id": "ff4e4b12-4588-4103-8c70-4b6de8d4f77d",
   "metadata": {},
   "source": [
    "Reference:  Andrew Ng ML course\n",
    "\n",
    "\n",
    "            and\n",
    "\n",
    "            \n",
    "            https://youtu.be/vmEHCJofslg?feature=shared\n",
    "            "
   ]
  },
  {
   "cell_type": "markdown",
   "id": "d37cf32d-20b4-4e2b-9bcf-3513d2c18105",
   "metadata": {},
   "source": []
  },
  {
   "cell_type": "code",
   "execution_count": 1,
   "id": "9475115b",
   "metadata": {
    "_cell_guid": "b1076dfc-b9ad-4769-8c92-a6c4dae69d19",
    "_uuid": "8f2839f25d086af736a60e9eeb907d3b93b6e0e5",
    "execution": {
     "iopub.execute_input": "2024-07-07T07:45:29.766677Z",
     "iopub.status.busy": "2024-07-07T07:45:29.766240Z",
     "iopub.status.idle": "2024-07-07T07:45:45.272832Z",
     "shell.execute_reply": "2024-07-07T07:45:45.271783Z"
    },
    "papermill": {
     "duration": 15.519465,
     "end_time": "2024-07-07T07:45:45.275490",
     "exception": false,
     "start_time": "2024-07-07T07:45:29.756025",
     "status": "completed"
    },
    "tags": []
   },
   "outputs": [
    {
     "name": "stderr",
     "output_type": "stream",
     "text": [
      "2024-07-07 07:45:32.706090: E external/local_xla/xla/stream_executor/cuda/cuda_dnn.cc:9261] Unable to register cuDNN factory: Attempting to register factory for plugin cuDNN when one has already been registered\n",
      "2024-07-07 07:45:32.706218: E external/local_xla/xla/stream_executor/cuda/cuda_fft.cc:607] Unable to register cuFFT factory: Attempting to register factory for plugin cuFFT when one has already been registered\n",
      "2024-07-07 07:45:32.853881: E external/local_xla/xla/stream_executor/cuda/cuda_blas.cc:1515] Unable to register cuBLAS factory: Attempting to register factory for plugin cuBLAS when one has already been registered\n"
     ]
    }
   ],
   "source": [
    "import pandas as pd\n",
    "import numpy as np\n",
    "import tensorflow as tf\n",
    "from tensorflow.keras.models import Sequential\n",
    "from tensorflow.keras.layers import Dense, Flatten\n",
    "from tensorflow.keras.utils import to_categorical\n",
    "from sklearn.model_selection import train_test_split\n",
    "from tensorflow.keras.layers import Conv2D, MaxPooling2D, Flatten, Dense"
   ]
  },
  {
   "cell_type": "code",
   "execution_count": 2,
   "id": "a91a2e35",
   "metadata": {
    "execution": {
     "iopub.execute_input": "2024-07-07T07:45:45.294860Z",
     "iopub.status.busy": "2024-07-07T07:45:45.294109Z",
     "iopub.status.idle": "2024-07-07T07:46:28.651237Z",
     "shell.execute_reply": "2024-07-07T07:46:28.650161Z"
    },
    "papermill": {
     "duration": 43.369687,
     "end_time": "2024-07-07T07:46:28.653912",
     "exception": false,
     "start_time": "2024-07-07T07:45:45.284225",
     "status": "completed"
    },
    "tags": []
   },
   "outputs": [
    {
     "name": "stderr",
     "output_type": "stream",
     "text": [
      "/tmp/ipykernel_18/1116349954.py:1: DtypeWarning: Columns (1,2,3,4) have mixed types. Specify dtype option on import or set low_memory=False.\n",
      "  df = pd.read_csv('/kaggle/input/alphabets/alphabets_28x28.csv')\n"
     ]
    }
   ],
   "source": [
    "df = pd.read_csv('/kaggle/input/alphabets/alphabets_28x28.csv')"
   ]
  },
  {
   "cell_type": "markdown",
   "id": "79671950-c92c-490f-8909-0073ed5af44e",
   "metadata": {},
   "source": []
  },
  {
   "cell_type": "markdown",
   "id": "e966fbac-2e78-4d69-a1b9-461fca12abff",
   "metadata": {},
   "source": [
    "Removing duplicates from data frame"
   ]
  },
  {
   "cell_type": "code",
   "execution_count": 3,
   "id": "1eff5d14",
   "metadata": {
    "execution": {
     "iopub.execute_input": "2024-07-07T07:46:28.672777Z",
     "iopub.status.busy": "2024-07-07T07:46:28.672330Z",
     "iopub.status.idle": "2024-07-07T07:46:30.131264Z",
     "shell.execute_reply": "2024-07-07T07:46:30.130309Z"
    },
    "papermill": {
     "duration": 1.47161,
     "end_time": "2024-07-07T07:46:30.134053",
     "exception": false,
     "start_time": "2024-07-07T07:46:28.662443",
     "status": "completed"
    },
    "tags": []
   },
   "outputs": [],
   "source": [
    "df = df.dropna()"
   ]
  },
  {
   "cell_type": "markdown",
   "id": "458aa469-91b2-444f-98e6-3da380100e03",
   "metadata": {},
   "source": []
  },
  {
   "cell_type": "markdown",
   "id": "f682e21c-8887-4087-8b21-8526b01ba7cd",
   "metadata": {},
   "source": []
  },
  {
   "cell_type": "code",
   "execution_count": 4,
   "id": "9767ffda",
   "metadata": {
    "execution": {
     "iopub.execute_input": "2024-07-07T07:46:30.152752Z",
     "iopub.status.busy": "2024-07-07T07:46:30.152312Z",
     "iopub.status.idle": "2024-07-07T07:46:30.157812Z",
     "shell.execute_reply": "2024-07-07T07:46:30.156647Z"
    },
    "papermill": {
     "duration": 0.017751,
     "end_time": "2024-07-07T07:46:30.160364",
     "exception": false,
     "start_time": "2024-07-07T07:46:30.142613",
     "status": "completed"
    },
    "tags": []
   },
   "outputs": [],
   "source": [
    "def alphabet_to_numeric(label):\n",
    "    return ord(label) - ord('A')"
   ]
  },
  {
   "cell_type": "markdown",
   "id": "e6ae8852-ef2e-4df0-b844-e80f8bc2f816",
   "metadata": {},
   "source": []
  },
  {
   "cell_type": "markdown",
   "id": "cc134db7-dcfc-41b7-bc05-f4b9277c5260",
   "metadata": {},
   "source": [
    "y as target dataset"
   ]
  },
  {
   "cell_type": "code",
   "execution_count": 5,
   "id": "159e6f52",
   "metadata": {
    "execution": {
     "iopub.execute_input": "2024-07-07T07:46:30.179710Z",
     "iopub.status.busy": "2024-07-07T07:46:30.178729Z",
     "iopub.status.idle": "2024-07-07T07:46:30.500513Z",
     "shell.execute_reply": "2024-07-07T07:46:30.499299Z"
    },
    "papermill": {
     "duration": 0.33438,
     "end_time": "2024-07-07T07:46:30.503334",
     "exception": false,
     "start_time": "2024-07-07T07:46:30.168954",
     "status": "completed"
    },
    "tags": []
   },
   "outputs": [],
   "source": [
    "y = df['label'].apply(alphabet_to_numeric).values"
   ]
  },
  {
   "cell_type": "code",
   "execution_count": 6,
   "id": "d90e7382",
   "metadata": {
    "execution": {
     "iopub.execute_input": "2024-07-07T07:46:30.522685Z",
     "iopub.status.busy": "2024-07-07T07:46:30.521626Z",
     "iopub.status.idle": "2024-07-07T07:46:30.530215Z",
     "shell.execute_reply": "2024-07-07T07:46:30.529128Z"
    },
    "papermill": {
     "duration": 0.021035,
     "end_time": "2024-07-07T07:46:30.532872",
     "exception": false,
     "start_time": "2024-07-07T07:46:30.511837",
     "status": "completed"
    },
    "tags": []
   },
   "outputs": [
    {
     "data": {
      "text/plain": [
       "array([ 0,  0,  0, ..., 25, 25, 25])"
      ]
     },
     "execution_count": 6,
     "metadata": {},
     "output_type": "execute_result"
    }
   ],
   "source": [
    "y"
   ]
  },
  {
   "cell_type": "markdown",
   "id": "b93cf8fe-e12d-4501-9fd6-6d42e3302ad4",
   "metadata": {},
   "source": []
  },
  {
   "cell_type": "markdown",
   "id": "1792e827-30cf-40ab-a0cb-5af44e83d787",
   "metadata": {},
   "source": [
    "X as input/feature dataset"
   ]
  },
  {
   "cell_type": "code",
   "execution_count": 7,
   "id": "a8bdc193",
   "metadata": {
    "execution": {
     "iopub.execute_input": "2024-07-07T07:46:30.552144Z",
     "iopub.status.busy": "2024-07-07T07:46:30.551428Z",
     "iopub.status.idle": "2024-07-07T07:46:31.256993Z",
     "shell.execute_reply": "2024-07-07T07:46:31.255695Z"
    },
    "papermill": {
     "duration": 0.718766,
     "end_time": "2024-07-07T07:46:31.260282",
     "exception": false,
     "start_time": "2024-07-07T07:46:30.541516",
     "status": "completed"
    },
    "tags": []
   },
   "outputs": [],
   "source": [
    "X = df.iloc[:, 1:]"
   ]
  },
  {
   "cell_type": "markdown",
   "id": "04a7aba4-4ae7-48da-ab0c-ceb97aee9f93",
   "metadata": {},
   "source": []
  },
  {
   "cell_type": "markdown",
   "id": "86640b75-b603-475d-88b8-5ed33ab60f49",
   "metadata": {},
   "source": [
    "X intially have data in form of object\n",
    "so we need to change them to float"
   ]
  },
  {
   "cell_type": "code",
   "execution_count": 8,
   "id": "82edd127",
   "metadata": {
    "execution": {
     "iopub.execute_input": "2024-07-07T07:46:31.279521Z",
     "iopub.status.busy": "2024-07-07T07:46:31.279100Z",
     "iopub.status.idle": "2024-07-07T07:46:33.640207Z",
     "shell.execute_reply": "2024-07-07T07:46:33.638971Z"
    },
    "papermill": {
     "duration": 2.373778,
     "end_time": "2024-07-07T07:46:33.642809",
     "exception": false,
     "start_time": "2024-07-07T07:46:31.269031",
     "status": "completed"
    },
    "tags": []
   },
   "outputs": [],
   "source": [
    "X = X.astype(np.float16)"
   ]
  },
  {
   "cell_type": "markdown",
   "id": "2e55dae4-f8b5-4436-a8af-45700fb543b5",
   "metadata": {},
   "source": [
    "Normalization of X"
   ]
  },
  {
   "cell_type": "code",
   "execution_count": 9,
   "id": "5a9fc1ea",
   "metadata": {
    "execution": {
     "iopub.execute_input": "2024-07-07T07:46:33.662450Z",
     "iopub.status.busy": "2024-07-07T07:46:33.661889Z",
     "iopub.status.idle": "2024-07-07T07:46:37.468865Z",
     "shell.execute_reply": "2024-07-07T07:46:37.467363Z"
    },
    "papermill": {
     "duration": 3.821445,
     "end_time": "2024-07-07T07:46:37.473124",
     "exception": false,
     "start_time": "2024-07-07T07:46:33.651679",
     "status": "completed"
    },
    "tags": []
   },
   "outputs": [],
   "source": [
    "X = X/255.0"
   ]
  },
  {
   "cell_type": "markdown",
   "id": "0a06fb2c-7ea7-4580-b57e-515755351784",
   "metadata": {},
   "source": []
  },
  {
   "cell_type": "markdown",
   "id": "3af0d5aa-6ccc-4ba4-bc2b-a1384b38fd53",
   "metadata": {},
   "source": [
    "We are using one hot encoding here for y"
   ]
  },
  {
   "cell_type": "code",
   "execution_count": 10,
   "id": "3bab8589",
   "metadata": {
    "execution": {
     "iopub.execute_input": "2024-07-07T07:46:37.498141Z",
     "iopub.status.busy": "2024-07-07T07:46:37.497747Z",
     "iopub.status.idle": "2024-07-07T07:46:37.524249Z",
     "shell.execute_reply": "2024-07-07T07:46:37.523090Z"
    },
    "papermill": {
     "duration": 0.044505,
     "end_time": "2024-07-07T07:46:37.527462",
     "exception": false,
     "start_time": "2024-07-07T07:46:37.482957",
     "status": "completed"
    },
    "tags": []
   },
   "outputs": [],
   "source": [
    "y = to_categorical(y, num_classes=26)"
   ]
  },
  {
   "cell_type": "markdown",
   "id": "d572344b-aa95-4103-bd39-f449a718b748",
   "metadata": {
    "execution": {
     "iopub.execute_input": "2024-07-07T05:28:38.115592Z",
     "iopub.status.busy": "2024-07-07T05:28:38.115016Z",
     "iopub.status.idle": "2024-07-07T05:28:38.123060Z",
     "shell.execute_reply": "2024-07-07T05:28:38.121447Z",
     "shell.execute_reply.started": "2024-07-07T05:28:38.115540Z"
    },
    "papermill": {
     "duration": 0.008146,
     "end_time": "2024-07-07T07:46:39.398617",
     "exception": false,
     "start_time": "2024-07-07T07:46:39.390471",
     "status": "completed"
    },
    "tags": []
   },
   "source": [
    "\n",
    "Spliting data set into traing and testing dataset"
   ]
  },
  {
   "cell_type": "code",
   "execution_count": 11,
   "id": "9f7089cb",
   "metadata": {
    "execution": {
     "iopub.execute_input": "2024-07-07T07:46:37.551901Z",
     "iopub.status.busy": "2024-07-07T07:46:37.550821Z",
     "iopub.status.idle": "2024-07-07T07:46:39.361156Z",
     "shell.execute_reply": "2024-07-07T07:46:39.359986Z"
    },
    "papermill": {
     "duration": 1.824206,
     "end_time": "2024-07-07T07:46:39.363890",
     "exception": false,
     "start_time": "2024-07-07T07:46:37.539684",
     "status": "completed"
    },
    "tags": []
   },
   "outputs": [],
   "source": [
    "X_train, X_test, y_train, y_test = train_test_split(X, y, test_size=0.2, random_state=42)"
   ]
  },
  {
   "cell_type": "markdown",
   "id": "048d19a6-877e-407c-a83c-5a424c16b908",
   "metadata": {
    "papermill": {
     "duration": 0.008676,
     "end_time": "2024-07-07T07:46:39.382037",
     "exception": false,
     "start_time": "2024-07-07T07:46:39.373361",
     "status": "completed"
    },
    "tags": []
   },
   "source": []
  },
  {
   "cell_type": "markdown",
   "id": "626aafff-45d4-42d4-a7a4-97c716416e91",
   "metadata": {
    "papermill": {
     "duration": 0.008676,
     "end_time": "2024-07-07T07:46:39.382037",
     "exception": false,
     "start_time": "2024-07-07T07:46:39.373361",
     "status": "completed"
    },
    "tags": []
   },
   "source": [
    "CNN architecture"
   ]
  },
  {
   "cell_type": "code",
   "execution_count": 12,
   "id": "b7d31dc0",
   "metadata": {
    "execution": {
     "iopub.execute_input": "2024-07-07T07:46:39.418365Z",
     "iopub.status.busy": "2024-07-07T07:46:39.417931Z",
     "iopub.status.idle": "2024-07-07T07:46:39.519667Z",
     "shell.execute_reply": "2024-07-07T07:46:39.518501Z"
    },
    "papermill": {
     "duration": 0.113963,
     "end_time": "2024-07-07T07:46:39.522069",
     "exception": false,
     "start_time": "2024-07-07T07:46:39.408106",
     "status": "completed"
    },
    "tags": []
   },
   "outputs": [
    {
     "name": "stderr",
     "output_type": "stream",
     "text": [
      "/opt/conda/lib/python3.10/site-packages/keras/src/layers/convolutional/base_conv.py:107: UserWarning: Do not pass an `input_shape`/`input_dim` argument to a layer. When using Sequential models, prefer using an `Input(shape)` object as the first layer in the model instead.\n",
      "  super().__init__(activity_regularizer=activity_regularizer, **kwargs)\n"
     ]
    }
   ],
   "source": [
    "model = Sequential([\n",
    "    Conv2D(32, (3, 3), activation='relu', input_shape=(28, 28, 1)),\n",
    "    MaxPooling2D((2, 2)),\n",
    "    Conv2D(64, (3, 3), activation='relu'),\n",
    "    MaxPooling2D((2, 2)),\n",
    "    Flatten(),\n",
    "    Dense(64, activation='relu'),\n",
    "    Dense(26, activation='softmax')\n",
    "])"
   ]
  },
  {
   "cell_type": "markdown",
   "id": "fb3ab8ba-98dc-48c0-a272-e45a4ec9af68",
   "metadata": {},
   "source": []
  },
  {
   "cell_type": "markdown",
   "id": "c2253c84-2476-424a-b1ee-ddf3beb98df7",
   "metadata": {},
   "source": [
    "Using \"Adam\" optimizer and loss function as \"categorical_crossentropy\""
   ]
  },
  {
   "cell_type": "code",
   "execution_count": 13,
   "id": "7093323b",
   "metadata": {
    "execution": {
     "iopub.execute_input": "2024-07-07T07:46:39.541140Z",
     "iopub.status.busy": "2024-07-07T07:46:39.540747Z",
     "iopub.status.idle": "2024-07-07T07:46:39.556712Z",
     "shell.execute_reply": "2024-07-07T07:46:39.555698Z"
    },
    "papermill": {
     "duration": 0.028611,
     "end_time": "2024-07-07T07:46:39.559358",
     "exception": false,
     "start_time": "2024-07-07T07:46:39.530747",
     "status": "completed"
    },
    "tags": []
   },
   "outputs": [],
   "source": [
    "model.compile(optimizer = 'adam',loss='categorical_crossentropy',metrics=['accuracy'])"
   ]
  },
  {
   "cell_type": "markdown",
   "id": "4a316e94-23e6-4cdd-9469-76ba4be4c6be",
   "metadata": {},
   "source": []
  },
  {
   "cell_type": "markdown",
   "id": "8a4b61e5-9276-441d-8568-47c619d3d0c5",
   "metadata": {},
   "source": [
    "converting X_train and X_test to numpy arrays And then changing shape of those numpy arrays"
   ]
  },
  {
   "cell_type": "code",
   "execution_count": 14,
   "id": "25a98fb1",
   "metadata": {
    "execution": {
     "iopub.execute_input": "2024-07-07T07:46:39.579290Z",
     "iopub.status.busy": "2024-07-07T07:46:39.578268Z",
     "iopub.status.idle": "2024-07-07T07:46:39.811583Z",
     "shell.execute_reply": "2024-07-07T07:46:39.810424Z"
    },
    "papermill": {
     "duration": 0.246111,
     "end_time": "2024-07-07T07:46:39.814360",
     "exception": false,
     "start_time": "2024-07-07T07:46:39.568249",
     "status": "completed"
    },
    "tags": []
   },
   "outputs": [],
   "source": [
    "X_train = X_train.values\n",
    "X_test = X_test.values\n",
    "X_train = X_train.reshape(-1, 28, 28, 1)\n",
    "X_test = X_test.reshape(-1, 28, 28, 1)"
   ]
  },
  {
   "cell_type": "markdown",
   "id": "04bccf37-740b-463b-bf23-9c5e1b50017c",
   "metadata": {},
   "source": []
  },
  {
   "cell_type": "markdown",
   "id": "3ffb43f1-466b-4e0a-b49d-d070a1d3e545",
   "metadata": {},
   "source": [
    "Traing NN on traing dataset"
   ]
  },
  {
   "cell_type": "code",
   "execution_count": 15,
   "id": "bdaf0299",
   "metadata": {
    "execution": {
     "iopub.execute_input": "2024-07-07T07:46:39.833488Z",
     "iopub.status.busy": "2024-07-07T07:46:39.832711Z",
     "iopub.status.idle": "2024-07-07T08:09:15.355516Z",
     "shell.execute_reply": "2024-07-07T08:09:15.353606Z"
    },
    "papermill": {
     "duration": 1355.535385,
     "end_time": "2024-07-07T08:09:15.358360",
     "exception": false,
     "start_time": "2024-07-07T07:46:39.822975",
     "status": "completed"
    },
    "tags": []
   },
   "outputs": [
    {
     "name": "stdout",
     "output_type": "stream",
     "text": [
      "Epoch 1/10\n",
      "\u001b[1m9285/9285\u001b[0m \u001b[32m━━━━━━━━━━━━━━━━━━━━\u001b[0m\u001b[37m\u001b[0m \u001b[1m144s\u001b[0m 15ms/step - accuracy: 0.9158 - loss: 0.3034\n",
      "Epoch 2/10\n",
      "\u001b[1m9285/9285\u001b[0m \u001b[32m━━━━━━━━━━━━━━━━━━━━\u001b[0m\u001b[37m\u001b[0m \u001b[1m137s\u001b[0m 15ms/step - accuracy: 0.9836 - loss: 0.0590\n",
      "Epoch 3/10\n",
      "\u001b[1m9285/9285\u001b[0m \u001b[32m━━━━━━━━━━━━━━━━━━━━\u001b[0m\u001b[37m\u001b[0m \u001b[1m134s\u001b[0m 14ms/step - accuracy: 0.9886 - loss: 0.0394\n",
      "Epoch 4/10\n",
      "\u001b[1m9285/9285\u001b[0m \u001b[32m━━━━━━━━━━━━━━━━━━━━\u001b[0m\u001b[37m\u001b[0m \u001b[1m138s\u001b[0m 14ms/step - accuracy: 0.9908 - loss: 0.0304\n",
      "Epoch 5/10\n",
      "\u001b[1m9285/9285\u001b[0m \u001b[32m━━━━━━━━━━━━━━━━━━━━\u001b[0m\u001b[37m\u001b[0m \u001b[1m136s\u001b[0m 15ms/step - accuracy: 0.9927 - loss: 0.0239\n",
      "Epoch 6/10\n",
      "\u001b[1m9285/9285\u001b[0m \u001b[32m━━━━━━━━━━━━━━━━━━━━\u001b[0m\u001b[37m\u001b[0m \u001b[1m133s\u001b[0m 14ms/step - accuracy: 0.9940 - loss: 0.0186\n",
      "Epoch 7/10\n",
      "\u001b[1m9285/9285\u001b[0m \u001b[32m━━━━━━━━━━━━━━━━━━━━\u001b[0m\u001b[37m\u001b[0m \u001b[1m135s\u001b[0m 15ms/step - accuracy: 0.9950 - loss: 0.0155\n",
      "Epoch 8/10\n",
      "\u001b[1m9285/9285\u001b[0m \u001b[32m━━━━━━━━━━━━━━━━━━━━\u001b[0m\u001b[37m\u001b[0m \u001b[1m133s\u001b[0m 14ms/step - accuracy: 0.9961 - loss: 0.0130\n",
      "Epoch 9/10\n",
      "\u001b[1m9285/9285\u001b[0m \u001b[32m━━━━━━━━━━━━━━━━━━━━\u001b[0m\u001b[37m\u001b[0m \u001b[1m129s\u001b[0m 14ms/step - accuracy: 0.9961 - loss: 0.0118\n",
      "Epoch 10/10\n",
      "\u001b[1m9285/9285\u001b[0m \u001b[32m━━━━━━━━━━━━━━━━━━━━\u001b[0m\u001b[37m\u001b[0m \u001b[1m131s\u001b[0m 14ms/step - accuracy: 0.9965 - loss: 0.0104\n"
     ]
    },
    {
     "data": {
      "text/plain": [
       "<keras.src.callbacks.history.History at 0x7f22189223b0>"
      ]
     },
     "execution_count": 15,
     "metadata": {},
     "output_type": "execute_result"
    }
   ],
   "source": [
    "model.fit(X_train,y_train,epochs = 10)"
   ]
  },
  {
   "cell_type": "markdown",
   "id": "5e76b512-36e5-40c7-b7da-a554eb2108b9",
   "metadata": {},
   "source": [
    "Running model on test data set"
   ]
  },
  {
   "cell_type": "code",
   "execution_count": 16,
   "id": "e07a571c",
   "metadata": {
    "execution": {
     "iopub.execute_input": "2024-07-07T08:09:19.885006Z",
     "iopub.status.busy": "2024-07-07T08:09:19.884528Z",
     "iopub.status.idle": "2024-07-07T08:09:31.749030Z",
     "shell.execute_reply": "2024-07-07T08:09:31.748064Z"
    },
    "papermill": {
     "duration": 14.085441,
     "end_time": "2024-07-07T08:09:31.751141",
     "exception": false,
     "start_time": "2024-07-07T08:09:17.665700",
     "status": "completed"
    },
    "tags": []
   },
   "outputs": [
    {
     "name": "stdout",
     "output_type": "stream",
     "text": [
      "\u001b[1m2322/2322\u001b[0m \u001b[32m━━━━━━━━━━━━━━━━━━━━\u001b[0m\u001b[37m\u001b[0m \u001b[1m11s\u001b[0m 5ms/step - accuracy: 0.9924 - loss: 0.0383\n"
     ]
    }
   ],
   "source": [
    "predictions = model.evaluate(X_test, y_test)"
   ]
  },
  {
   "cell_type": "code",
   "execution_count": 17,
   "id": "cdbf0404",
   "metadata": {
    "execution": {
     "iopub.execute_input": "2024-07-07T08:09:36.249696Z",
     "iopub.status.busy": "2024-07-07T08:09:36.248838Z",
     "iopub.status.idle": "2024-07-07T08:09:36.255408Z",
     "shell.execute_reply": "2024-07-07T08:09:36.254437Z"
    },
    "papermill": {
     "duration": 2.24904,
     "end_time": "2024-07-07T08:09:36.257614",
     "exception": false,
     "start_time": "2024-07-07T08:09:34.008574",
     "status": "completed"
    },
    "tags": []
   },
   "outputs": [
    {
     "data": {
      "text/plain": [
       "[0.0382307767868042, 0.9923396706581116]"
      ]
     },
     "execution_count": 17,
     "metadata": {},
     "output_type": "execute_result"
    }
   ],
   "source": [
    "predictions"
   ]
  },
  {
   "cell_type": "markdown",
   "id": "87feee02-79cb-4fe8-8a13-acac1f0ab504",
   "metadata": {},
   "source": []
  },
  {
   "cell_type": "markdown",
   "id": "ec1c32b5-1d09-4d7d-abb7-9cef36a14da6",
   "metadata": {},
   "source": [
    "saving the model including architecture and weights"
   ]
  },
  {
   "cell_type": "code",
   "execution_count": 18,
   "id": "8d6b0f39",
   "metadata": {
    "execution": {
     "iopub.execute_input": "2024-07-07T08:09:40.895031Z",
     "iopub.status.busy": "2024-07-07T08:09:40.894087Z",
     "iopub.status.idle": "2024-07-07T08:09:40.951105Z",
     "shell.execute_reply": "2024-07-07T08:09:40.950162Z"
    },
    "papermill": {
     "duration": 2.351543,
     "end_time": "2024-07-07T08:09:40.953720",
     "exception": false,
     "start_time": "2024-07-07T08:09:38.602177",
     "status": "completed"
    },
    "tags": []
   },
   "outputs": [],
   "source": [
    "model.save(\"yash.h5\")"
   ]
  },
  {
   "cell_type": "code",
   "execution_count": null,
   "id": "e91be536",
   "metadata": {
    "papermill": {
     "duration": 2.231798,
     "end_time": "2024-07-07T08:09:45.411165",
     "exception": false,
     "start_time": "2024-07-07T08:09:43.179367",
     "status": "completed"
    },
    "tags": []
   },
   "outputs": [],
   "source": []
  },
  {
   "cell_type": "code",
   "execution_count": null,
   "id": "966f2243",
   "metadata": {
    "papermill": {
     "duration": 2.27402,
     "end_time": "2024-07-07T08:09:49.933808",
     "exception": false,
     "start_time": "2024-07-07T08:09:47.659788",
     "status": "completed"
    },
    "tags": []
   },
   "outputs": [],
   "source": []
  },
  {
   "cell_type": "code",
   "execution_count": null,
   "id": "b8eea6e3",
   "metadata": {
    "papermill": {
     "duration": 2.218952,
     "end_time": "2024-07-07T08:09:54.430448",
     "exception": false,
     "start_time": "2024-07-07T08:09:52.211496",
     "status": "completed"
    },
    "tags": []
   },
   "outputs": [],
   "source": []
  },
  {
   "cell_type": "code",
   "execution_count": null,
   "id": "1e930120",
   "metadata": {
    "papermill": {
     "duration": 2.247946,
     "end_time": "2024-07-07T08:09:58.952345",
     "exception": false,
     "start_time": "2024-07-07T08:09:56.704399",
     "status": "completed"
    },
    "tags": []
   },
   "outputs": [],
   "source": []
  },
  {
   "cell_type": "code",
   "execution_count": null,
   "id": "a412fe21",
   "metadata": {
    "papermill": {
     "duration": 2.319618,
     "end_time": "2024-07-07T08:10:03.544322",
     "exception": false,
     "start_time": "2024-07-07T08:10:01.224704",
     "status": "completed"
    },
    "tags": []
   },
   "outputs": [],
   "source": []
  },
  {
   "cell_type": "code",
   "execution_count": null,
   "id": "1e3dca58",
   "metadata": {
    "papermill": {
     "duration": 2.26875,
     "end_time": "2024-07-07T08:10:08.023279",
     "exception": false,
     "start_time": "2024-07-07T08:10:05.754529",
     "status": "completed"
    },
    "tags": []
   },
   "outputs": [],
   "source": []
  }
 ],
 "metadata": {
  "kaggle": {
   "accelerator": "none",
   "dataSources": [
    {
     "datasetId": 5344232,
     "sourceId": 8879473,
     "sourceType": "datasetVersion"
    }
   ],
   "dockerImageVersionId": 30732,
   "isGpuEnabled": false,
   "isInternetEnabled": false,
   "language": "python",
   "sourceType": "notebook"
  },
  "kernelspec": {
   "display_name": "Python 3 (ipykernel)",
   "language": "python",
   "name": "python3"
  },
  "language_info": {
   "codemirror_mode": {
    "name": "ipython",
    "version": 3
   },
   "file_extension": ".py",
   "mimetype": "text/x-python",
   "name": "python",
   "nbconvert_exporter": "python",
   "pygments_lexer": "ipython3",
   "version": "3.11.7"
  },
  "papermill": {
   "default_parameters": {},
   "duration": 1486.448234,
   "end_time": "2024-07-07T08:10:13.241527",
   "environment_variables": {},
   "exception": null,
   "input_path": "__notebook__.ipynb",
   "output_path": "__notebook__.ipynb",
   "parameters": {},
   "start_time": "2024-07-07T07:45:26.793293",
   "version": "2.5.0"
  }
 },
 "nbformat": 4,
 "nbformat_minor": 5
}
